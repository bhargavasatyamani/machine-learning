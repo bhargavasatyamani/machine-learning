{
  "nbformat": 4,
  "nbformat_minor": 0,
  "metadata": {
    "colab": {
      "name": "Recommendations using KNNWithMeans CF.ipynb",
      "provenance": [],
      "collapsed_sections": []
    },
    "kernelspec": {
      "name": "python3",
      "display_name": "Python 3"
    }
  },
  "cells": [
    {
      "cell_type": "code",
      "metadata": {
        "id": "dIFHgl9UogIv",
        "colab_type": "code",
        "colab": {
          "base_uri": "https://localhost:8080/",
          "height": 34
        },
        "outputId": "3a45e197-655d-4047-e8a0-d5c63a31ce53"
      },
      "source": [
        "from google.colab import drive\n",
        "drive.mount('/content/drive')"
      ],
      "execution_count": 1,
      "outputs": [
        {
          "output_type": "stream",
          "text": [
            "Drive already mounted at /content/drive; to attempt to forcibly remount, call drive.mount(\"/content/drive\", force_remount=True).\n"
          ],
          "name": "stdout"
        }
      ]
    },
    {
      "cell_type": "code",
      "metadata": {
        "id": "WwkPVnjZ2l9M",
        "colab_type": "code",
        "colab": {
          "base_uri": "https://localhost:8080/",
          "height": 309
        },
        "outputId": "c57eb2ed-cd39-49c4-c5fe-44714430a3cd"
      },
      "source": [
        "! pip install surprise"
      ],
      "execution_count": 14,
      "outputs": [
        {
          "output_type": "stream",
          "text": [
            "Collecting surprise\n",
            "  Downloading https://files.pythonhosted.org/packages/61/de/e5cba8682201fcf9c3719a6fdda95693468ed061945493dea2dd37c5618b/surprise-0.1-py2.py3-none-any.whl\n",
            "Collecting scikit-surprise\n",
            "\u001b[?25l  Downloading https://files.pythonhosted.org/packages/f5/da/b5700d96495fb4f092be497f02492768a3d96a3f4fa2ae7dea46d4081cfa/scikit-surprise-1.1.0.tar.gz (6.4MB)\n",
            "\u001b[K     |████████████████████████████████| 6.5MB 2.8MB/s \n",
            "\u001b[?25hRequirement already satisfied: joblib>=0.11 in /usr/local/lib/python3.6/dist-packages (from scikit-surprise->surprise) (0.14.1)\n",
            "Requirement already satisfied: numpy>=1.11.2 in /usr/local/lib/python3.6/dist-packages (from scikit-surprise->surprise) (1.18.2)\n",
            "Requirement already satisfied: scipy>=1.0.0 in /usr/local/lib/python3.6/dist-packages (from scikit-surprise->surprise) (1.4.1)\n",
            "Requirement already satisfied: six>=1.10.0 in /usr/local/lib/python3.6/dist-packages (from scikit-surprise->surprise) (1.12.0)\n",
            "Building wheels for collected packages: scikit-surprise\n",
            "  Building wheel for scikit-surprise (setup.py) ... \u001b[?25l\u001b[?25hdone\n",
            "  Created wheel for scikit-surprise: filename=scikit_surprise-1.1.0-cp36-cp36m-linux_x86_64.whl size=1678551 sha256=5b3d7060c744bf1c42d93f9322f54b62ce2890052ee190e22350aef23208d8c5\n",
            "  Stored in directory: /root/.cache/pip/wheels/cc/fa/8c/16c93fccce688ae1bde7d979ff102f7bee980d9cfeb8641bcf\n",
            "Successfully built scikit-surprise\n",
            "Installing collected packages: scikit-surprise, surprise\n",
            "Successfully installed scikit-surprise-1.1.0 surprise-0.1\n"
          ],
          "name": "stdout"
        }
      ]
    },
    {
      "cell_type": "code",
      "metadata": {
        "id": "AcQm72Ka0H0D",
        "colab_type": "code",
        "colab": {}
      },
      "source": [
        "ROOT_DIR = '/content/drive/My Drive/Recommendation Systems/movielens/'\n",
        "DATA_DIR = '/content/drive/My Drive/Recommendation Systems/movielens/data/'"
      ],
      "execution_count": 0,
      "outputs": []
    },
    {
      "cell_type": "code",
      "metadata": {
        "id": "iUiyX1BJ0LYa",
        "colab_type": "code",
        "colab": {}
      },
      "source": [
        "import pandas as pd\n",
        "import numpy as np\n",
        "import matplotlib.pyplot as plt\n",
        "from sklearn.model_selection import train_test_split"
      ],
      "execution_count": 0,
      "outputs": []
    },
    {
      "cell_type": "code",
      "metadata": {
        "id": "1VaElvBw0RCK",
        "colab_type": "code",
        "colab": {
          "base_uri": "https://localhost:8080/",
          "height": 204
        },
        "outputId": "86f50438-6211-4202-81be-0a7418f85540"
      },
      "source": [
        "#Load the u.data file into a dataframe\n",
        "r_cols = ['user_id', 'movie_id', 'rating', 'timestamp']\n",
        "ratings = pd.read_csv(DATA_DIR+'u.data', sep='\\t', names=r_cols,encoding='latin-1')\n",
        "ratings.head()"
      ],
      "execution_count": 5,
      "outputs": [
        {
          "output_type": "execute_result",
          "data": {
            "text/html": [
              "<div>\n",
              "<style scoped>\n",
              "    .dataframe tbody tr th:only-of-type {\n",
              "        vertical-align: middle;\n",
              "    }\n",
              "\n",
              "    .dataframe tbody tr th {\n",
              "        vertical-align: top;\n",
              "    }\n",
              "\n",
              "    .dataframe thead th {\n",
              "        text-align: right;\n",
              "    }\n",
              "</style>\n",
              "<table border=\"1\" class=\"dataframe\">\n",
              "  <thead>\n",
              "    <tr style=\"text-align: right;\">\n",
              "      <th></th>\n",
              "      <th>user_id</th>\n",
              "      <th>movie_id</th>\n",
              "      <th>rating</th>\n",
              "      <th>timestamp</th>\n",
              "    </tr>\n",
              "  </thead>\n",
              "  <tbody>\n",
              "    <tr>\n",
              "      <th>0</th>\n",
              "      <td>196</td>\n",
              "      <td>242</td>\n",
              "      <td>3</td>\n",
              "      <td>881250949</td>\n",
              "    </tr>\n",
              "    <tr>\n",
              "      <th>1</th>\n",
              "      <td>186</td>\n",
              "      <td>302</td>\n",
              "      <td>3</td>\n",
              "      <td>891717742</td>\n",
              "    </tr>\n",
              "    <tr>\n",
              "      <th>2</th>\n",
              "      <td>22</td>\n",
              "      <td>377</td>\n",
              "      <td>1</td>\n",
              "      <td>878887116</td>\n",
              "    </tr>\n",
              "    <tr>\n",
              "      <th>3</th>\n",
              "      <td>244</td>\n",
              "      <td>51</td>\n",
              "      <td>2</td>\n",
              "      <td>880606923</td>\n",
              "    </tr>\n",
              "    <tr>\n",
              "      <th>4</th>\n",
              "      <td>166</td>\n",
              "      <td>346</td>\n",
              "      <td>1</td>\n",
              "      <td>886397596</td>\n",
              "    </tr>\n",
              "  </tbody>\n",
              "</table>\n",
              "</div>"
            ],
            "text/plain": [
              "   user_id  movie_id  rating  timestamp\n",
              "0      196       242       3  881250949\n",
              "1      186       302       3  891717742\n",
              "2       22       377       1  878887116\n",
              "3      244        51       2  880606923\n",
              "4      166       346       1  886397596"
            ]
          },
          "metadata": {
            "tags": []
          },
          "execution_count": 5
        }
      ]
    },
    {
      "cell_type": "code",
      "metadata": {
        "id": "QWvbkQBQ0Ulp",
        "colab_type": "code",
        "colab": {}
      },
      "source": [
        "#Drop the timestamp column\n",
        "ratings = ratings.drop('timestamp', axis=1)"
      ],
      "execution_count": 0,
      "outputs": []
    },
    {
      "cell_type": "code",
      "metadata": {
        "id": "xIE0PPmq0Yqo",
        "colab_type": "code",
        "colab": {
          "base_uri": "https://localhost:8080/",
          "height": 204
        },
        "outputId": "78a84ecb-4b6c-4d10-ccb1-da00c40fef57"
      },
      "source": [
        "ratings.head()"
      ],
      "execution_count": 7,
      "outputs": [
        {
          "output_type": "execute_result",
          "data": {
            "text/html": [
              "<div>\n",
              "<style scoped>\n",
              "    .dataframe tbody tr th:only-of-type {\n",
              "        vertical-align: middle;\n",
              "    }\n",
              "\n",
              "    .dataframe tbody tr th {\n",
              "        vertical-align: top;\n",
              "    }\n",
              "\n",
              "    .dataframe thead th {\n",
              "        text-align: right;\n",
              "    }\n",
              "</style>\n",
              "<table border=\"1\" class=\"dataframe\">\n",
              "  <thead>\n",
              "    <tr style=\"text-align: right;\">\n",
              "      <th></th>\n",
              "      <th>user_id</th>\n",
              "      <th>movie_id</th>\n",
              "      <th>rating</th>\n",
              "    </tr>\n",
              "  </thead>\n",
              "  <tbody>\n",
              "    <tr>\n",
              "      <th>0</th>\n",
              "      <td>196</td>\n",
              "      <td>242</td>\n",
              "      <td>3</td>\n",
              "    </tr>\n",
              "    <tr>\n",
              "      <th>1</th>\n",
              "      <td>186</td>\n",
              "      <td>302</td>\n",
              "      <td>3</td>\n",
              "    </tr>\n",
              "    <tr>\n",
              "      <th>2</th>\n",
              "      <td>22</td>\n",
              "      <td>377</td>\n",
              "      <td>1</td>\n",
              "    </tr>\n",
              "    <tr>\n",
              "      <th>3</th>\n",
              "      <td>244</td>\n",
              "      <td>51</td>\n",
              "      <td>2</td>\n",
              "    </tr>\n",
              "    <tr>\n",
              "      <th>4</th>\n",
              "      <td>166</td>\n",
              "      <td>346</td>\n",
              "      <td>1</td>\n",
              "    </tr>\n",
              "  </tbody>\n",
              "</table>\n",
              "</div>"
            ],
            "text/plain": [
              "   user_id  movie_id  rating\n",
              "0      196       242       3\n",
              "1      186       302       3\n",
              "2       22       377       1\n",
              "3      244        51       2\n",
              "4      166       346       1"
            ]
          },
          "metadata": {
            "tags": []
          },
          "execution_count": 7
        }
      ]
    },
    {
      "cell_type": "code",
      "metadata": {
        "id": "D0Dfq4AY1BVU",
        "colab_type": "code",
        "colab": {
          "base_uri": "https://localhost:8080/",
          "height": 51
        },
        "outputId": "39bc1244-24b2-40f7-f561-ff27d78e465e"
      },
      "source": [
        "print('No of distinct users: ',ratings['user_id'].nunique())\n",
        "print('No of distinct movies: ',ratings['movie_id'].nunique())"
      ],
      "execution_count": 8,
      "outputs": [
        {
          "output_type": "stream",
          "text": [
            "No of distinct users:  943\n",
            "No of distinct movies:  1682\n"
          ],
          "name": "stdout"
        }
      ]
    },
    {
      "cell_type": "code",
      "metadata": {
        "id": "zqvzXs630iPR",
        "colab_type": "code",
        "colab": {}
      },
      "source": [
        "'''\n",
        "X = ratings.copy()\n",
        "y  = ratings['user_id']\n",
        "\n",
        "X_train,X_test,y_train,y_test = train_test_split(X,y,test_size=0.25,stratify=y,random_state=42)\n",
        "'''"
      ],
      "execution_count": 0,
      "outputs": []
    },
    {
      "cell_type": "code",
      "metadata": {
        "id": "xx9Wak001pZr",
        "colab_type": "code",
        "colab": {}
      },
      "source": [
        "'''\n",
        "print('Train set size: ',X_train.shape)\n",
        "print('Test set size: ',X_test.shape)\n",
        "print('No of users in train set: ',X_train['user_id'].nunique())\n",
        "print('No of users in test set: ',X_test['user_id'].nunique())\n",
        "'''"
      ],
      "execution_count": 0,
      "outputs": []
    },
    {
      "cell_type": "markdown",
      "metadata": {
        "id": "VC-aZmbR2DMy",
        "colab_type": "text"
      },
      "source": [
        "# **Model based Collaborative Filtering**"
      ]
    },
    {
      "cell_type": "code",
      "metadata": {
        "id": "f6GNBjrP1-PC",
        "colab_type": "code",
        "colab": {}
      },
      "source": [
        "from surprise import Reader,Dataset\n",
        "from surprise import KNNWithMeans\n",
        "from surprise.model_selection import GridSearchCV,train_test_split\n",
        "from surprise import accuracy"
      ],
      "execution_count": 0,
      "outputs": []
    },
    {
      "cell_type": "code",
      "metadata": {
        "id": "DYdf-g4V5E9L",
        "colab_type": "code",
        "colab": {}
      },
      "source": [
        "reader = Reader(rating_scale=(1,5))\n",
        "data = Dataset.load_from_df(ratings,reader)\n",
        "#data = Dataset.load_builtin('ml-100k')"
      ],
      "execution_count": 0,
      "outputs": []
    },
    {
      "cell_type": "code",
      "metadata": {
        "id": "hyubScFKmmQZ",
        "colab_type": "code",
        "colab": {}
      },
      "source": [
        "trainset, testset = train_test_split(data, test_size=.25)"
      ],
      "execution_count": 0,
      "outputs": []
    },
    {
      "cell_type": "code",
      "metadata": {
        "id": "cSJkMPBN3Ffn",
        "colab_type": "code",
        "colab": {
          "base_uri": "https://localhost:8080/",
          "height": 833
        },
        "outputId": "d22ade7e-2395-47c2-9389-fe85da71b2f9"
      },
      "source": [
        "param_grid = {'k':[20,30,40,50],\n",
        "              'sim_options':{\n",
        "                              'name':['cosine','msd'],\n",
        "                              'user_based':[True]              \n",
        "                            }\n",
        "              }\n",
        "\n",
        "algo = KNNWithMeans\n",
        "\n",
        "gs = GridSearchCV(algo,param_grid,measures=['rmse','mae'],cv=3)\n",
        "\n",
        "gs.fit(data)"
      ],
      "execution_count": 14,
      "outputs": [
        {
          "output_type": "stream",
          "text": [
            "Computing the cosine similarity matrix...\n",
            "Done computing similarity matrix.\n",
            "Computing the cosine similarity matrix...\n",
            "Done computing similarity matrix.\n",
            "Computing the cosine similarity matrix...\n",
            "Done computing similarity matrix.\n",
            "Computing the msd similarity matrix...\n",
            "Done computing similarity matrix.\n",
            "Computing the msd similarity matrix...\n",
            "Done computing similarity matrix.\n",
            "Computing the msd similarity matrix...\n",
            "Done computing similarity matrix.\n",
            "Computing the cosine similarity matrix...\n",
            "Done computing similarity matrix.\n",
            "Computing the cosine similarity matrix...\n",
            "Done computing similarity matrix.\n",
            "Computing the cosine similarity matrix...\n",
            "Done computing similarity matrix.\n",
            "Computing the msd similarity matrix...\n",
            "Done computing similarity matrix.\n",
            "Computing the msd similarity matrix...\n",
            "Done computing similarity matrix.\n",
            "Computing the msd similarity matrix...\n",
            "Done computing similarity matrix.\n",
            "Computing the cosine similarity matrix...\n",
            "Done computing similarity matrix.\n",
            "Computing the cosine similarity matrix...\n",
            "Done computing similarity matrix.\n",
            "Computing the cosine similarity matrix...\n",
            "Done computing similarity matrix.\n",
            "Computing the msd similarity matrix...\n",
            "Done computing similarity matrix.\n",
            "Computing the msd similarity matrix...\n",
            "Done computing similarity matrix.\n",
            "Computing the msd similarity matrix...\n",
            "Done computing similarity matrix.\n",
            "Computing the cosine similarity matrix...\n",
            "Done computing similarity matrix.\n",
            "Computing the cosine similarity matrix...\n",
            "Done computing similarity matrix.\n",
            "Computing the cosine similarity matrix...\n",
            "Done computing similarity matrix.\n",
            "Computing the msd similarity matrix...\n",
            "Done computing similarity matrix.\n",
            "Computing the msd similarity matrix...\n",
            "Done computing similarity matrix.\n",
            "Computing the msd similarity matrix...\n",
            "Done computing similarity matrix.\n"
          ],
          "name": "stdout"
        }
      ]
    },
    {
      "cell_type": "code",
      "metadata": {
        "id": "A4K5Hx-s7fcM",
        "colab_type": "code",
        "colab": {
          "base_uri": "https://localhost:8080/",
          "height": 816
        },
        "outputId": "c4e548c5-c30e-4c4f-a0d4-ef9d24c0afde"
      },
      "source": [
        "#Grid Search Results\n",
        "gs.cv_results"
      ],
      "execution_count": 15,
      "outputs": [
        {
          "output_type": "execute_result",
          "data": {
            "text/plain": [
              "{'mean_fit_time': array([0.73962267, 0.23431253, 0.72840341, 0.2367533 , 0.73529212,\n",
              "        0.24068721, 0.71583096, 0.23812675]),\n",
              " 'mean_test_mae': array([0.7675249 , 0.76011001, 0.76165387, 0.75577752, 0.7589158 ,\n",
              "        0.7538079 , 0.75782618, 0.75327059]),\n",
              " 'mean_test_rmse': array([0.97016999, 0.96351343, 0.96397314, 0.95851224, 0.96137129,\n",
              "        0.95654228, 0.96031564, 0.95602028]),\n",
              " 'mean_test_time': array([4.32756154, 4.32173292, 4.81202157, 4.83022936, 5.31991275,\n",
              "        5.24883731, 5.63941844, 5.6654768 ]),\n",
              " 'param_k': [20, 20, 30, 30, 40, 40, 50, 50],\n",
              " 'param_sim_options': [{'name': 'cosine', 'user_based': True},\n",
              "  {'name': 'msd', 'user_based': True},\n",
              "  {'name': 'cosine', 'user_based': True},\n",
              "  {'name': 'msd', 'user_based': True},\n",
              "  {'name': 'cosine', 'user_based': True},\n",
              "  {'name': 'msd', 'user_based': True},\n",
              "  {'name': 'cosine', 'user_based': True},\n",
              "  {'name': 'msd', 'user_based': True}],\n",
              " 'params': [{'k': 20, 'sim_options': {'name': 'cosine', 'user_based': True}},\n",
              "  {'k': 20, 'sim_options': {'name': 'msd', 'user_based': True}},\n",
              "  {'k': 30, 'sim_options': {'name': 'cosine', 'user_based': True}},\n",
              "  {'k': 30, 'sim_options': {'name': 'msd', 'user_based': True}},\n",
              "  {'k': 40, 'sim_options': {'name': 'cosine', 'user_based': True}},\n",
              "  {'k': 40, 'sim_options': {'name': 'msd', 'user_based': True}},\n",
              "  {'k': 50, 'sim_options': {'name': 'cosine', 'user_based': True}},\n",
              "  {'k': 50, 'sim_options': {'name': 'msd', 'user_based': True}}],\n",
              " 'rank_test_mae': array([8, 6, 7, 3, 5, 2, 4, 1]),\n",
              " 'rank_test_rmse': array([8, 6, 7, 3, 5, 2, 4, 1]),\n",
              " 'split0_test_mae': array([0.77366451, 0.76697831, 0.76741198, 0.76121968, 0.76488518,\n",
              "        0.75960235, 0.76348103, 0.75912141]),\n",
              " 'split0_test_rmse': array([0.97970712, 0.97354576, 0.97285763, 0.96724907, 0.9706137 ,\n",
              "        0.96551158, 0.96927532, 0.96496573]),\n",
              " 'split1_test_mae': array([0.76320371, 0.75586358, 0.75744904, 0.75232554, 0.75452992,\n",
              "        0.74998597, 0.75342911, 0.74936613]),\n",
              " 'split1_test_rmse': array([0.96348393, 0.95684399, 0.95734805, 0.9527665 , 0.95473665,\n",
              "        0.95045719, 0.95376924, 0.94997841]),\n",
              " 'split2_test_mae': array([0.76570647, 0.75748814, 0.7601006 , 0.75378734, 0.75733232,\n",
              "        0.75183539, 0.75656841, 0.75132422]),\n",
              " 'split2_test_rmse': array([0.96731891, 0.96015053, 0.96171375, 0.95552117, 0.95876352,\n",
              "        0.95365809, 0.95790235, 0.95311671]),\n",
              " 'std_fit_time': array([0.01206793, 0.00307158, 0.01024735, 0.00632272, 0.01180089,\n",
              "        0.00558991, 0.01240678, 0.00373576]),\n",
              " 'std_test_mae': array([0.00445998, 0.0049017 , 0.00421304, 0.00389419, 0.00437329,\n",
              "        0.00416627, 0.00419895, 0.00421368]),\n",
              " 'std_test_rmse': array([0.00692312, 0.00722122, 0.00653021, 0.00627939, 0.00673897,\n",
              "        0.00647547, 0.0065563 , 0.00645384]),\n",
              " 'std_test_time': array([0.05678147, 0.05195111, 0.06439731, 0.05090845, 0.03988919,\n",
              "        0.05502725, 0.04071872, 0.0412783 ])}"
            ]
          },
          "metadata": {
            "tags": []
          },
          "execution_count": 15
        }
      ]
    },
    {
      "cell_type": "code",
      "metadata": {
        "id": "X3eSeMN99CpU",
        "colab_type": "code",
        "colab": {
          "base_uri": "https://localhost:8080/",
          "height": 51
        },
        "outputId": "7ae46c68-3e10-451e-b760-e944b25e806a"
      },
      "source": [
        "gs.best_params"
      ],
      "execution_count": 16,
      "outputs": [
        {
          "output_type": "execute_result",
          "data": {
            "text/plain": [
              "{'mae': {'k': 50, 'sim_options': {'name': 'msd', 'user_based': True}},\n",
              " 'rmse': {'k': 50, 'sim_options': {'name': 'msd', 'user_based': True}}}"
            ]
          },
          "metadata": {
            "tags": []
          },
          "execution_count": 16
        }
      ]
    },
    {
      "cell_type": "code",
      "metadata": {
        "id": "TPo3E2re743r",
        "colab_type": "code",
        "colab": {
          "base_uri": "https://localhost:8080/",
          "height": 68
        },
        "outputId": "dc41724d-a0af-40a8-ca8f-5cf17036ecc5"
      },
      "source": [
        "#Train the model with best params\n",
        "algo = KNNWithMeans(k=50,sim_options={'name': 'msd', 'user_based': True})\n",
        "algo.fit(trainset)"
      ],
      "execution_count": 17,
      "outputs": [
        {
          "output_type": "stream",
          "text": [
            "Computing the msd similarity matrix...\n",
            "Done computing similarity matrix.\n"
          ],
          "name": "stdout"
        },
        {
          "output_type": "execute_result",
          "data": {
            "text/plain": [
              "<surprise.prediction_algorithms.knns.KNNWithMeans at 0x7f9d1d3545f8>"
            ]
          },
          "metadata": {
            "tags": []
          },
          "execution_count": 17
        }
      ]
    },
    {
      "cell_type": "code",
      "metadata": {
        "id": "bN0PSDoT_Q10",
        "colab_type": "code",
        "colab": {}
      },
      "source": [
        "predictions = algo.test(testset)"
      ],
      "execution_count": 0,
      "outputs": []
    },
    {
      "cell_type": "code",
      "metadata": {
        "id": "03_LKnf5paUJ",
        "colab_type": "code",
        "colab": {
          "base_uri": "https://localhost:8080/",
          "height": 51
        },
        "outputId": "0824d17c-851e-424e-ad16-2cdc2fb35f13"
      },
      "source": [
        "accuracy.rmse(predictions)"
      ],
      "execution_count": 23,
      "outputs": [
        {
          "output_type": "stream",
          "text": [
            "RMSE: 0.9444\n"
          ],
          "name": "stdout"
        },
        {
          "output_type": "execute_result",
          "data": {
            "text/plain": [
              "0.9443506314956355"
            ]
          },
          "metadata": {
            "tags": []
          },
          "execution_count": 23
        }
      ]
    },
    {
      "cell_type": "code",
      "metadata": {
        "id": "A-Abhhas_sor",
        "colab_type": "code",
        "colab": {
          "base_uri": "https://localhost:8080/",
          "height": 34
        },
        "outputId": "27cb8d5d-4f3c-4a40-a620-8acdcf90435b"
      },
      "source": [
        "uid = str(176)\n",
        "iid = str(303)\n",
        "# get a prediction for specific users and items.\n",
        "pred = algo.predict(uid, iid, r_ui=4, verbose=False).est\n",
        "pred"
      ],
      "execution_count": 41,
      "outputs": [
        {
          "output_type": "execute_result",
          "data": {
            "text/plain": [
              "3.528653333333333"
            ]
          },
          "metadata": {
            "tags": []
          },
          "execution_count": 41
        }
      ]
    },
    {
      "cell_type": "code",
      "metadata": {
        "id": "-wPOAoO2wIIn",
        "colab_type": "code",
        "colab": {
          "base_uri": "https://localhost:8080/",
          "height": 377
        },
        "outputId": "20178bdc-6e92-41b7-b85e-cc5c1af4b576"
      },
      "source": [
        "#Load the u.items file into a dataframe\n",
        "i_cols = ['movie_id', 'title' ,'release date','video release date', 'IMDbURL', 'unknown', 'Action', 'Adventure',\n",
        "'Animation', 'Children\\'s', 'Comedy', 'Crime', 'Documentary', 'Drama','Fantasy','Film-Noir', 'Horror', 'Musical', 'Mystery', 'Romance', \n",
        "'Sci-Fi','Thriller', 'War', 'Western']\n",
        "movies_df = pd.read_csv(DATA_DIR+'u.item', sep='|', names=i_cols,encoding='latin-1')\n",
        "movies_df.head()"
      ],
      "execution_count": 43,
      "outputs": [
        {
          "output_type": "execute_result",
          "data": {
            "text/html": [
              "<div>\n",
              "<style scoped>\n",
              "    .dataframe tbody tr th:only-of-type {\n",
              "        vertical-align: middle;\n",
              "    }\n",
              "\n",
              "    .dataframe tbody tr th {\n",
              "        vertical-align: top;\n",
              "    }\n",
              "\n",
              "    .dataframe thead th {\n",
              "        text-align: right;\n",
              "    }\n",
              "</style>\n",
              "<table border=\"1\" class=\"dataframe\">\n",
              "  <thead>\n",
              "    <tr style=\"text-align: right;\">\n",
              "      <th></th>\n",
              "      <th>movie_id</th>\n",
              "      <th>title</th>\n",
              "      <th>release date</th>\n",
              "      <th>video release date</th>\n",
              "      <th>IMDbURL</th>\n",
              "      <th>unknown</th>\n",
              "      <th>Action</th>\n",
              "      <th>Adventure</th>\n",
              "      <th>Animation</th>\n",
              "      <th>Children's</th>\n",
              "      <th>Comedy</th>\n",
              "      <th>Crime</th>\n",
              "      <th>Documentary</th>\n",
              "      <th>Drama</th>\n",
              "      <th>Fantasy</th>\n",
              "      <th>Film-Noir</th>\n",
              "      <th>Horror</th>\n",
              "      <th>Musical</th>\n",
              "      <th>Mystery</th>\n",
              "      <th>Romance</th>\n",
              "      <th>Sci-Fi</th>\n",
              "      <th>Thriller</th>\n",
              "      <th>War</th>\n",
              "      <th>Western</th>\n",
              "    </tr>\n",
              "  </thead>\n",
              "  <tbody>\n",
              "    <tr>\n",
              "      <th>0</th>\n",
              "      <td>1</td>\n",
              "      <td>Toy Story (1995)</td>\n",
              "      <td>01-Jan-1995</td>\n",
              "      <td>NaN</td>\n",
              "      <td>http://us.imdb.com/M/title-exact?Toy%20Story%2...</td>\n",
              "      <td>0</td>\n",
              "      <td>0</td>\n",
              "      <td>0</td>\n",
              "      <td>1</td>\n",
              "      <td>1</td>\n",
              "      <td>1</td>\n",
              "      <td>0</td>\n",
              "      <td>0</td>\n",
              "      <td>0</td>\n",
              "      <td>0</td>\n",
              "      <td>0</td>\n",
              "      <td>0</td>\n",
              "      <td>0</td>\n",
              "      <td>0</td>\n",
              "      <td>0</td>\n",
              "      <td>0</td>\n",
              "      <td>0</td>\n",
              "      <td>0</td>\n",
              "      <td>0</td>\n",
              "    </tr>\n",
              "    <tr>\n",
              "      <th>1</th>\n",
              "      <td>2</td>\n",
              "      <td>GoldenEye (1995)</td>\n",
              "      <td>01-Jan-1995</td>\n",
              "      <td>NaN</td>\n",
              "      <td>http://us.imdb.com/M/title-exact?GoldenEye%20(...</td>\n",
              "      <td>0</td>\n",
              "      <td>1</td>\n",
              "      <td>1</td>\n",
              "      <td>0</td>\n",
              "      <td>0</td>\n",
              "      <td>0</td>\n",
              "      <td>0</td>\n",
              "      <td>0</td>\n",
              "      <td>0</td>\n",
              "      <td>0</td>\n",
              "      <td>0</td>\n",
              "      <td>0</td>\n",
              "      <td>0</td>\n",
              "      <td>0</td>\n",
              "      <td>0</td>\n",
              "      <td>0</td>\n",
              "      <td>1</td>\n",
              "      <td>0</td>\n",
              "      <td>0</td>\n",
              "    </tr>\n",
              "    <tr>\n",
              "      <th>2</th>\n",
              "      <td>3</td>\n",
              "      <td>Four Rooms (1995)</td>\n",
              "      <td>01-Jan-1995</td>\n",
              "      <td>NaN</td>\n",
              "      <td>http://us.imdb.com/M/title-exact?Four%20Rooms%...</td>\n",
              "      <td>0</td>\n",
              "      <td>0</td>\n",
              "      <td>0</td>\n",
              "      <td>0</td>\n",
              "      <td>0</td>\n",
              "      <td>0</td>\n",
              "      <td>0</td>\n",
              "      <td>0</td>\n",
              "      <td>0</td>\n",
              "      <td>0</td>\n",
              "      <td>0</td>\n",
              "      <td>0</td>\n",
              "      <td>0</td>\n",
              "      <td>0</td>\n",
              "      <td>0</td>\n",
              "      <td>0</td>\n",
              "      <td>1</td>\n",
              "      <td>0</td>\n",
              "      <td>0</td>\n",
              "    </tr>\n",
              "    <tr>\n",
              "      <th>3</th>\n",
              "      <td>4</td>\n",
              "      <td>Get Shorty (1995)</td>\n",
              "      <td>01-Jan-1995</td>\n",
              "      <td>NaN</td>\n",
              "      <td>http://us.imdb.com/M/title-exact?Get%20Shorty%...</td>\n",
              "      <td>0</td>\n",
              "      <td>1</td>\n",
              "      <td>0</td>\n",
              "      <td>0</td>\n",
              "      <td>0</td>\n",
              "      <td>1</td>\n",
              "      <td>0</td>\n",
              "      <td>0</td>\n",
              "      <td>1</td>\n",
              "      <td>0</td>\n",
              "      <td>0</td>\n",
              "      <td>0</td>\n",
              "      <td>0</td>\n",
              "      <td>0</td>\n",
              "      <td>0</td>\n",
              "      <td>0</td>\n",
              "      <td>0</td>\n",
              "      <td>0</td>\n",
              "      <td>0</td>\n",
              "    </tr>\n",
              "    <tr>\n",
              "      <th>4</th>\n",
              "      <td>5</td>\n",
              "      <td>Copycat (1995)</td>\n",
              "      <td>01-Jan-1995</td>\n",
              "      <td>NaN</td>\n",
              "      <td>http://us.imdb.com/M/title-exact?Copycat%20(1995)</td>\n",
              "      <td>0</td>\n",
              "      <td>0</td>\n",
              "      <td>0</td>\n",
              "      <td>0</td>\n",
              "      <td>0</td>\n",
              "      <td>0</td>\n",
              "      <td>1</td>\n",
              "      <td>0</td>\n",
              "      <td>1</td>\n",
              "      <td>0</td>\n",
              "      <td>0</td>\n",
              "      <td>0</td>\n",
              "      <td>0</td>\n",
              "      <td>0</td>\n",
              "      <td>0</td>\n",
              "      <td>0</td>\n",
              "      <td>1</td>\n",
              "      <td>0</td>\n",
              "      <td>0</td>\n",
              "    </tr>\n",
              "  </tbody>\n",
              "</table>\n",
              "</div>"
            ],
            "text/plain": [
              "   movie_id              title release date  ...  Thriller War  Western\n",
              "0         1   Toy Story (1995)  01-Jan-1995  ...         0   0        0\n",
              "1         2   GoldenEye (1995)  01-Jan-1995  ...         1   0        0\n",
              "2         3  Four Rooms (1995)  01-Jan-1995  ...         1   0        0\n",
              "3         4  Get Shorty (1995)  01-Jan-1995  ...         0   0        0\n",
              "4         5     Copycat (1995)  01-Jan-1995  ...         1   0        0\n",
              "\n",
              "[5 rows x 24 columns]"
            ]
          },
          "metadata": {
            "tags": []
          },
          "execution_count": 43
        }
      ]
    },
    {
      "cell_type": "code",
      "metadata": {
        "id": "R9pOmEtBw5FK",
        "colab_type": "code",
        "colab": {}
      },
      "source": [
        "#Recommend movies to an user with user_id = 200\n",
        "\n",
        "from collections import defaultdict\n",
        "\n",
        "movies_watched = list(ratings[ratings['user_id']==200]['movie_id'].values)\n",
        "movies = list(ratings['movie_id'].unique())\n",
        "movies_not_watched = list(set(movies)-set(movies_watched))\n",
        "\n",
        "pred_movie_ratings = defaultdict(int)\n",
        "\n",
        "for movie in movies_not_watched:\n",
        "  pred_movie_ratings[movie]=algo.predict(200,movie,verbose=False).est\n",
        "\n",
        "pred_movie_ratings = [(k,v) for (k,v) in pred_movie_ratings.items()]\n",
        "pred_movie_ratings_sorted = sorted(pred_movie_ratings,key=lambda x:x[1],reverse=True)\n",
        "recommended_movies_ids = [k for (k,v) in pred_movie_ratings_sorted][:20] #Fetch top 20 movies to recommend\n",
        "recommended_movies = [movies_df[movies_df['movie_id']==movie_id]['title'].values[0] for movie_id in recommended_movies_ids]"
      ],
      "execution_count": 0,
      "outputs": []
    },
    {
      "cell_type": "code",
      "metadata": {
        "id": "2rEKdpWOxkIA",
        "colab_type": "code",
        "colab": {
          "base_uri": "https://localhost:8080/",
          "height": 357
        },
        "outputId": "231e417c-00bb-4963-af66-eaeecb85dc03"
      },
      "source": [
        "recommended_movies"
      ],
      "execution_count": 51,
      "outputs": [
        {
          "output_type": "execute_result",
          "data": {
            "text/plain": [
              "['Maya Lin: A Strong Clear Vision (1994)',\n",
              " 'Love and Death on Long Island (1997)',\n",
              " 'Celestial Clockwork (1994)',\n",
              " 'Prefontaine (1997)',\n",
              " 'Star Kid (1997)',\n",
              " 'Story of Xinghua, The (1993)',\n",
              " 'Search for One-eye Jimmy, The (1996)',\n",
              " 'Mina Tannenbaum (1994)',\n",
              " 'Mondo (1996)',\n",
              " 'Anna (1996)',\n",
              " 'Pather Panchali (1955)',\n",
              " 'Saint of Fort Washington, The (1993)',\n",
              " 'Santa with Muscles (1996)',\n",
              " 'Aiqing wansui (1994)',\n",
              " \"Someone Else's America (1995)\",\n",
              " 'Nightwatch (1997)',\n",
              " \"Some Mother's Son (1996)\",\n",
              " 'Butcher Boy, The (1998)',\n",
              " 'Butcher Boy, The (1998)',\n",
              " 'Spanish Prisoner, The (1997)']"
            ]
          },
          "metadata": {
            "tags": []
          },
          "execution_count": 51
        }
      ]
    }
  ]
}