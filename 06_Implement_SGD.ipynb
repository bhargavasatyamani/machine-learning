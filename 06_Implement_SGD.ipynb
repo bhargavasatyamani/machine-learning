{
  "nbformat": 4,
  "nbformat_minor": 0,
  "metadata": {
    "colab": {
      "name": "06 Implement SGD.ipynb",
      "version": "0.3.2",
      "provenance": [],
      "collapsed_sections": [],
      "toc_visible": true
    },
    "kernelspec": {
      "name": "python3",
      "display_name": "Python 3"
    },
    "accelerator": "GPU"
  },
  "cells": [
    {
      "metadata": {
        "id": "5X5lDa8kMCXJ",
        "colab_type": "text"
      },
      "cell_type": "markdown",
      "source": [
        "# **sklearn SGDRegressor**"
      ]
    },
    {
      "metadata": {
        "id": "REYPoTJ1Af7u",
        "colab_type": "code",
        "colab": {}
      },
      "cell_type": "code",
      "source": [
        "import warnings\n",
        "warnings.filterwarnings(\"ignore\")\n",
        "from sklearn.datasets import load_boston\n",
        "from random import seed\n",
        "from random import randrange\n",
        "from csv import reader\n",
        "from math import sqrt\n",
        "from sklearn import preprocessing\n",
        "import pandas as pd\n",
        "import numpy as np\n",
        "import matplotlib.pyplot as plt\n",
        "from prettytable import PrettyTable\n",
        "from sklearn.linear_model import SGDRegressor\n",
        "from sklearn import preprocessing\n",
        "from sklearn.metrics import mean_squared_error\n",
        "from sklearn.model_selection import train_test_split"
      ],
      "execution_count": 0,
      "outputs": []
    },
    {
      "metadata": {
        "id": "NTQ2iH-kAwbo",
        "colab_type": "code",
        "colab": {}
      },
      "cell_type": "code",
      "source": [
        "#loading the boston dataset from sklearn\n",
        "X = load_boston().data\n",
        "Y = load_boston().target"
      ],
      "execution_count": 0,
      "outputs": []
    },
    {
      "metadata": {
        "id": "wmsqsPJV12FD",
        "colab_type": "code",
        "colab": {}
      },
      "cell_type": "code",
      "source": [
        "#splitting the dataset into train and test dataset\n",
        "X_train,X_test,Y_train,Y_test=train_test_split(X,Y,test_size=0.3,random_state=0)"
      ],
      "execution_count": 0,
      "outputs": []
    },
    {
      "metadata": {
        "id": "lDYisS8xZqbg",
        "colab_type": "code",
        "colab": {}
      },
      "cell_type": "code",
      "source": [
        "#standardizing the data\n",
        "scaler=preprocessing.StandardScaler()\n",
        "scaler.fit(X_train)\n",
        "X_train=scaler.transform(X_train)\n",
        "X_test=scaler.transform(X_test)"
      ],
      "execution_count": 0,
      "outputs": []
    },
    {
      "metadata": {
        "id": "HNu1sXtEBBS2",
        "colab_type": "code",
        "outputId": "0a24a5ef-e8b1-490b-cf18-cd74094f6184",
        "colab": {
          "base_uri": "https://localhost:8080/",
          "height": 123
        }
      },
      "cell_type": "code",
      "source": [
        "#sklearn SGDRegressor model without regularization\n",
        "clf = SGDRegressor(penalty=None,alpha=0,max_iter=500)\n",
        "#clf = SGDRegressor()\n",
        "clf.fit(X_train, Y_train)"
      ],
      "execution_count": 0,
      "outputs": [
        {
          "output_type": "execute_result",
          "data": {
            "text/plain": [
              "SGDRegressor(alpha=0, average=False, early_stopping=False, epsilon=0.1,\n",
              "       eta0=0.01, fit_intercept=True, l1_ratio=0.15,\n",
              "       learning_rate='invscaling', loss='squared_loss', max_iter=500,\n",
              "       n_iter=None, n_iter_no_change=5, penalty=None, power_t=0.25,\n",
              "       random_state=None, shuffle=True, tol=None, validation_fraction=0.1,\n",
              "       verbose=0, warm_start=False)"
            ]
          },
          "metadata": {
            "tags": []
          },
          "execution_count": 72
        }
      ]
    },
    {
      "metadata": {
        "id": "62f5lCxqMqyo",
        "colab_type": "code",
        "outputId": "ccf50408-109a-4fe9-d272-0430513ce8e4",
        "colab": {
          "base_uri": "https://localhost:8080/",
          "height": 70
        }
      },
      "cell_type": "code",
      "source": [
        "#weight vector obtained by sklearn SGDRegressor model\n",
        "sklearn_W=clf.coef_\n",
        "sklearn_W"
      ],
      "execution_count": 0,
      "outputs": [
        {
          "output_type": "execute_result",
          "data": {
            "text/plain": [
              "array([-1.01498388,  1.04914638,  0.08204709,  0.63096429, -1.87417512,\n",
              "        2.69913176, -0.27455695, -3.10496178,  2.10098962, -1.88272296,\n",
              "       -2.26244145,  0.58231771, -3.44130655])"
            ]
          },
          "metadata": {
            "tags": []
          },
          "execution_count": 74
        }
      ]
    },
    {
      "metadata": {
        "id": "lat9Uni1Ms3Y",
        "colab_type": "code",
        "outputId": "09e725da-edd4-41c0-ee63-c293d9b323b6",
        "colab": {
          "base_uri": "https://localhost:8080/",
          "height": 34
        }
      },
      "cell_type": "code",
      "source": [
        "#intercept for the model obtained by sklearn SGDRegressor\n",
        "sklearn_b=clf.intercept_\n",
        "sklearn_b"
      ],
      "execution_count": 0,
      "outputs": [
        {
          "output_type": "execute_result",
          "data": {
            "text/plain": [
              "array([22.74569767])"
            ]
          },
          "metadata": {
            "tags": []
          },
          "execution_count": 76
        }
      ]
    },
    {
      "metadata": {
        "id": "RTFj57oLMwlU",
        "colab_type": "code",
        "colab": {}
      },
      "cell_type": "code",
      "source": [
        "#mean squared error\n",
        "Y_pred=clf.predict(X_test)\n",
        "sklearn_MSE=mean_squared_error(Y_test,Y_pred)"
      ],
      "execution_count": 0,
      "outputs": []
    },
    {
      "metadata": {
        "id": "Gu9khFy6d75N",
        "colab_type": "code",
        "outputId": "d6a13dcf-6bff-4851-c5c4-73196aa75453",
        "colab": {
          "base_uri": "https://localhost:8080/",
          "height": 34
        }
      },
      "cell_type": "code",
      "source": [
        "sklearn_MSE"
      ],
      "execution_count": 0,
      "outputs": [
        {
          "output_type": "execute_result",
          "data": {
            "text/plain": [
              "27.173522895888894"
            ]
          },
          "metadata": {
            "tags": []
          },
          "execution_count": 78
        }
      ]
    },
    {
      "metadata": {
        "id": "nL5hBXh0M_54",
        "colab_type": "code",
        "outputId": "e6ed5076-bee1-4f82-fd57-6011d7a01e5d",
        "colab": {
          "base_uri": "https://localhost:8080/",
          "height": 361
        }
      },
      "cell_type": "code",
      "source": [
        "#plotting predicted values VS actual values\n",
        "plt.plot(Y_pred,Y_test,linestyle='',marker='o')\n",
        "plt.xlabel('predicted')\n",
        "plt.ylabel('actual')\n",
        "plt.show()"
      ],
      "execution_count": 0,
      "outputs": [
        {
          "output_type": "display_data",
          "data": {
            "image/png": "[encoded data removed]",
            "text/plain": [
              "<Figure size 576x396 with 1 Axes>"
            ]
          },
          "metadata": {
            "tags": []
          }
        }
      ]
    },
    {
      "metadata": {
        "id": "Epj7RvOq3g-x",
        "colab_type": "text"
      },
      "cell_type": "markdown",
      "source": [
        "# **My implementation of SGDRegressor**"
      ]
    },
    {
      "metadata": {
        "id": "zHI84RnDHi1M",
        "colab_type": "code",
        "colab": {}
      },
      "cell_type": "code",
      "source": [
        "#loading the dataset\n",
        "boston=load_boston()\n",
        "X=boston.data\n",
        "Y=boston.target\n",
        "\n",
        "#splitting the dataset into train,test datasets\n",
        "X_train,X_test,Y_train,Y_test=train_test_split(X,Y,test_size=0.3,random_state=0)\n",
        "\n",
        "#feature scaling\n",
        "scaler=preprocessing.StandardScaler().fit(X_train)\n",
        "X_train=scaler.transform(X_train)\n",
        "X_test=scaler.transform(X_test)"
      ],
      "execution_count": 0,
      "outputs": []
    },
    {
      "metadata": {
        "id": "78ggmSNDPLXX",
        "colab_type": "code",
        "outputId": "3749eb04-0ce1-48fb-b0be-d7071670b133",
        "colab": {
          "base_uri": "https://localhost:8080/",
          "height": 52
        }
      },
      "cell_type": "code",
      "source": [
        "print('Shape of X_train',X_train.shape,'\\nShape of X_test',X_test.shape)"
      ],
      "execution_count": 0,
      "outputs": [
        {
          "output_type": "stream",
          "text": [
            "Shape of X_train (354, 13) \n",
            "Shape of X_test (152, 13)\n"
          ],
          "name": "stdout"
        }
      ]
    },
    {
      "metadata": {
        "id": "730rIKhvHoOl",
        "colab_type": "code",
        "colab": {}
      },
      "cell_type": "code",
      "source": [
        "iterations=500 #max no of iterations\n",
        "sample_size=150 #sample size of data to consider during each iteration\n",
        "W=np.random.normal(0.0,1.0,size=13) #initializing the weight vector with random values from normal distribution(mean=0 and std-dev=1)\n",
        "b=np.random.normal(0.0,1.0,size=1) #initializing intercept term with a random value from normal distribution\n",
        "mse=[] #empty list for storing mse in each iteration\n",
        "lr=0.01 #learning rate\n",
        "\n",
        "for itr in range(iterations):\n",
        "    #generating random  numbers to be used as index for sampling\n",
        "    idx=np.random.choice(np.arange(len(X_train)),size=sample_size,replace=False)\n",
        "    X_sample=X_train[idx]\n",
        "    Y_sample=Y_train[idx]\n",
        "    #predicted values\n",
        "    Y_pred=np.dot(X_sample,W)+b\n",
        "    mse.append(mean_squared_error(Y_sample,Y_pred))\n",
        "    if(itr!=0):\n",
        "        if(abs(mse[itr]-mse[itr-1])>=0.1):\n",
        "            for i in range(len(X_sample)):\n",
        "                yhat=np.dot(W.T,X_sample[i])+b\n",
        "                W=W-lr*(-2)*X_sample[i]*(Y_sample[i]-yhat)\n",
        "                b=b-lr*(-2)*(Y_sample[i]-yhat)\n",
        "            lr=lr/2\n",
        "        else:\n",
        "            break"
      ],
      "execution_count": 0,
      "outputs": []
    },
    {
      "metadata": {
        "id": "vp_Hp4MdINzF",
        "colab_type": "code",
        "outputId": "46d5e2aa-e644-4f1f-982b-e535beb22d27",
        "colab": {
          "base_uri": "https://localhost:8080/",
          "height": 34
        }
      },
      "cell_type": "code",
      "source": [
        "#MSE for my implementation\n",
        "Y_pred=np.dot(X_test,W)+b\n",
        "my_MSE=mean_squared_error(Y_test,Y_pred)\n",
        "my_MSE"
      ],
      "execution_count": 0,
      "outputs": [
        {
          "output_type": "execute_result",
          "data": {
            "text/plain": [
              "27.09624954954564"
            ]
          },
          "metadata": {
            "tags": []
          },
          "execution_count": 89
        }
      ]
    },
    {
      "metadata": {
        "id": "udnVhwkJLsT3",
        "colab_type": "code",
        "outputId": "00583f58-cdbf-4a76-f512-ff6ad243cdca",
        "colab": {
          "base_uri": "https://localhost:8080/",
          "height": 70
        }
      },
      "cell_type": "code",
      "source": [
        "#weights obtained by my implementation\n",
        "my_W=W\n",
        "print(my_W)"
      ],
      "execution_count": 0,
      "outputs": [
        {
          "output_type": "stream",
          "text": [
            "[-1.02467402  0.80761971 -0.34990453  0.43953371 -1.2261729   2.63689706\n",
            "  0.25720897 -2.33834904  1.50005187 -1.04157106 -2.0133921   0.72474908\n",
            " -3.99110089]\n"
          ],
          "name": "stdout"
        }
      ]
    },
    {
      "metadata": {
        "id": "ROeqhQCLLsQn",
        "colab_type": "code",
        "outputId": "e5e1b1a4-4b5a-4951-d753-a145a977ac2d",
        "colab": {
          "base_uri": "https://localhost:8080/",
          "height": 34
        }
      },
      "cell_type": "code",
      "source": [
        "#intercept obtained by my implementation\n",
        "my_b=b\n",
        "print(b)"
      ],
      "execution_count": 0,
      "outputs": [
        {
          "output_type": "stream",
          "text": [
            "[22.72308662]\n"
          ],
          "name": "stdout"
        }
      ]
    },
    {
      "metadata": {
        "id": "YWVhS3HAPc_S",
        "colab_type": "code",
        "outputId": "f88f8fb9-c899-4b3b-e274-21761f127536",
        "colab": {
          "base_uri": "https://localhost:8080/",
          "height": 361
        }
      },
      "cell_type": "code",
      "source": [
        "#predicted values vs actual values\n",
        "plt.plot(Y_pred,Y_test,linestyle='',marker='o')\n",
        "plt.xlabel('predicted')\n",
        "plt.ylabel('actual')\n",
        "plt.show()"
      ],
      "execution_count": 0,
      "outputs": [
        {
          "output_type": "display_data",
          "data": {
            "image/png": "[encoded data removed]",
            "text/plain": [
              "<Figure size 576x396 with 1 Axes>"
            ]
          },
          "metadata": {
            "tags": []
          }
        }
      ]
    },
    {
      "metadata": {
        "id": "xDW3ajAYW8Fh",
        "colab_type": "text"
      },
      "cell_type": "markdown",
      "source": [
        "**Comparing my impementation and sklearn implementation of SGDRegressor**"
      ]
    },
    {
      "metadata": {
        "id": "A3P7XlblXJgJ",
        "colab_type": "code",
        "outputId": "79014983-a1b7-4234-d446-260884468fcb",
        "colab": {
          "base_uri": "https://localhost:8080/",
          "height": 336
        }
      },
      "cell_type": "code",
      "source": [
        "from prettytable import PrettyTable\n",
        "    \n",
        "x = PrettyTable()\n",
        "\n",
        "x.field_names = [\"Weights\", \"sklear implementation\", \"my implementation\"]\n",
        "\n",
        "\n",
        "for i in range(13):\n",
        "  x.add_row([\"W\"+str(i+1),sklearn_W[i],my_W[i]])\n",
        "\n",
        "x.add_row([\"b\",sklearn_b,my_b])\n",
        "print(x)"
      ],
      "execution_count": 0,
      "outputs": [
        {
          "output_type": "stream",
          "text": [
            "+---------+-----------------------+----------------------+\n",
            "| Weights | sklear implementation |  my implementation   |\n",
            "+---------+-----------------------+----------------------+\n",
            "|    W1   |  -1.0149838764122392  |  -1.024674018911933  |\n",
            "|    W2   |   1.0491463807290133  |  0.8076197058072463  |\n",
            "|    W3   |  0.08204709287137066  | -0.34990453180233544 |\n",
            "|    W4   |   0.6309642912826718  |  0.4395337060854564  |\n",
            "|    W5   |  -1.8741751216435873  |  -1.226172897391543  |\n",
            "|    W6   |   2.6991317567594706  |  2.636897064116853   |\n",
            "|    W7   |  -0.2745569508530523  |   0.25720896610251   |\n",
            "|    W8   |   -3.104961779342055  | -2.3383490370415436  |\n",
            "|    W9   |    2.10098961570462   |  1.5000518747058718  |\n",
            "|   W10   |  -1.8827229635000406  |  -1.041571061518702  |\n",
            "|   W11   |  -2.2624414505209454  |  -2.013392096886359  |\n",
            "|   W12   |   0.5823177105483278  |  0.7247490768930089  |\n",
            "|   W13   |   -3.441306549423374  |  -3.991100894226346  |\n",
            "|    b    |     [22.74569767]     |    [22.72308662]     |\n",
            "+---------+-----------------------+----------------------+\n"
          ],
          "name": "stdout"
        }
      ]
    },
    {
      "metadata": {
        "id": "oLV5r1NDeJnY",
        "colab_type": "text"
      },
      "cell_type": "markdown",
      "source": [
        "**Comparing MSE for my implementation and sklearn implementation**"
      ]
    },
    {
      "metadata": {
        "id": "3ijQ-pU4eSyk",
        "colab_type": "code",
        "outputId": "00a84ee0-e654-421d-b94a-52c1db63372d",
        "colab": {
          "base_uri": "https://localhost:8080/",
          "height": 52
        }
      },
      "cell_type": "code",
      "source": [
        "print('sklearn implementation MSE: ',sklearn_MSE)\n",
        "print('my implementation MSE: ',my_MSE)"
      ],
      "execution_count": 0,
      "outputs": [
        {
          "output_type": "stream",
          "text": [
            "sklearn implementation MSE:  27.173522895888894\n",
            "my implementation MSE:  27.09624954954564\n"
          ],
          "name": "stdout"
        }
      ]
    },
    {
      "metadata": {
        "id": "KCeNu3swfC6i",
        "colab_type": "text"
      },
      "cell_type": "markdown",
      "source": [
        "**RMSE for my implementation and sklearn implementation**"
      ]
    },
    {
      "metadata": {
        "id": "8_qJYI08eypB",
        "colab_type": "code",
        "colab": {}
      },
      "cell_type": "code",
      "source": [
        "sklearn_RMSE=np.sqrt(sklearn_MSE)\n",
        "my_RMSE=np.sqrt(my_MSE)"
      ],
      "execution_count": 0,
      "outputs": []
    },
    {
      "metadata": {
        "id": "VeRZSJGfe5A0",
        "colab_type": "code",
        "outputId": "d3ef2fea-c6e8-4788-ad92-39df2634a3fd",
        "colab": {
          "base_uri": "https://localhost:8080/",
          "height": 52
        }
      },
      "cell_type": "code",
      "source": [
        "print('sklearn implementation RMSE: ',sklearn_RMSE)\n",
        "print('my implementation RMSE: ',my_RMSE)"
      ],
      "execution_count": 0,
      "outputs": [
        {
          "output_type": "stream",
          "text": [
            "sklearn implementation RMSE:  5.212822929650391\n",
            "my implementation RMSE:  5.205405800660083\n"
          ],
          "name": "stdout"
        }
      ]
    }
  ]
}